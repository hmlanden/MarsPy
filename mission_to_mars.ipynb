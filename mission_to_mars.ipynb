{
 "cells": [
  {
   "cell_type": "code",
   "execution_count": null,
   "metadata": {},
   "outputs": [],
   "source": [
    "# ------------------------------------------------------------\n",
    "#  Step 1: Import all required modules and initialize all tools\n",
    "# ------------------------------------------------------------\n",
    "from bs4 import BeautifulSoup as soup\n",
    "from splinter import Browser\n",
    "import pandas as pd\n",
    "\n",
    "# initialize splinter\n",
    "browser = Browser('chrome', \n",
    "                  **{\"executable_path\": \"/usr/local/bin/chromedriver\"}, \n",
    "                  headless=False)"
   ]
  },
  {
   "cell_type": "code",
   "execution_count": null,
   "metadata": {},
   "outputs": [],
   "source": [
    "# ------------------------------------------------------------\n",
    "#  Step 2: Scrape Nasa Mars News website\n",
    "# ------------------------------------------------------------\n",
    "# set up connection to the webpage\n",
    "url = 'https://mars.nasa.gov/news/?page=0&per_page=40&order=publish_date+desc%2Ccreated_at+desc&search=&category=19%2C165%2C184%2C204&blank_scope=Latest'\n",
    "browser.visit(url)\n",
    "html = browser.html\n",
    "webpage = soup(html, 'html.parser')\n",
    "\n",
    "# create lists to hold info\n",
    "headline_list = []\n",
    "date_list = []\n",
    "text_list = []\n",
    "\n",
    "# pull the most recent headlines from the website\n",
    "headlines_grouped = soup.find_all(webpage, 'h3', class_=None)\n",
    "[headline_list.append(headline.get_text()) for headline in headlines_grouped]\n",
    "\n",
    "# pull the dates for the most recent headlines\n",
    "dates_grouped = soup.find_all(webpage, 'div', class_='list_date')\n",
    "[date_list.append(date.get_text()) for date in dates_grouped]\n",
    "\n",
    "# pull the text of the most recent headlines\n",
    "text_grouped = soup.find_all(webpage, 'div', class_='article_teaser_body')\n",
    "[text_list.append(text.get_text()) for text in text_grouped]"
   ]
  },
  {
   "cell_type": "code",
   "execution_count": null,
   "metadata": {},
   "outputs": [],
   "source": [
    "webpage.prettify"
   ]
  },
  {
   "cell_type": "code",
   "execution_count": null,
   "metadata": {},
   "outputs": [],
   "source": []
  }
 ],
 "metadata": {
  "kernelspec": {
   "display_name": "Python [conda env:PythonData]",
   "language": "python",
   "name": "conda-env-PythonData-py"
  },
  "language_info": {
   "codemirror_mode": {
    "name": "ipython",
    "version": 3
   },
   "file_extension": ".py",
   "mimetype": "text/x-python",
   "name": "python",
   "nbconvert_exporter": "python",
   "pygments_lexer": "ipython3",
   "version": "3.6.4"
  }
 },
 "nbformat": 4,
 "nbformat_minor": 2
}
